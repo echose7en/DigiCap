{
 "cells": [
  {
   "cell_type": "markdown",
   "id": "a434871c",
   "metadata": {},
   "source": [
    "# N/A II\n",
    "\n",
    "# Q1\n",
    "  \n"
   ]
  },
  {
   "cell_type": "code",
   "execution_count": 1,
   "id": "7be19b64",
   "metadata": {},
   "outputs": [
    {
     "name": "stdout",
     "output_type": "stream",
     "text": [
      "[9 0 6 0 7]\n"
     ]
    }
   ],
   "source": [
    "import numpy as np\n",
    "\n",
    "# Create a vector of length 5 filled with random integers from 0 to 10\n",
    "vector = np.random.randint(low=0, high=11, size=5)\n",
    "\n",
    "# Print the vector\n",
    "print(vector)"
   ]
  },
  {
   "cell_type": "markdown",
   "id": "90136f98",
   "metadata": {},
   "source": [
    "# Q2"
   ]
  },
  {
   "cell_type": "code",
   "execution_count": 3,
   "id": "fe145714",
   "metadata": {},
   "outputs": [
    {
     "name": "stdout",
     "output_type": "stream",
     "text": [
      "[16 17 18 19 20 21 22 23 24 25 26 27 28 29 30 31 32 33 34 35 36 37 38 39\n",
      " 40 41 42 43 44 45 46 47 48 49 50 51 52 53 54]\n"
     ]
    }
   ],
   "source": [
    "# Create a vector with values ranging from 15 to 55\n",
    "vector = np.arange(15, 56)\n",
    "\n",
    "# Print all values except the first and last\n",
    "print(vector[1:-1])\n"
   ]
  },
  {
   "cell_type": "markdown",
   "id": "788f7e39",
   "metadata": {},
   "source": [
    "# Q3"
   ]
  },
  {
   "cell_type": "code",
   "execution_count": 4,
   "id": "34952b56",
   "metadata": {},
   "outputs": [
    {
     "name": "stdout",
     "output_type": "stream",
     "text": [
      "Average: 0.49512687948063194\n",
      "Variance: 0.08110234781138274\n",
      "Standard deviation: 0.2847847394285423\n"
     ]
    }
   ],
   "source": [
    "# Create a random array with 1000 elements\n",
    "arr = np.random.rand(1000)\n",
    "\n",
    "# Compute the average, variance, and standard deviation of the array\n",
    "avg = np.mean(arr)\n",
    "var = np.var(arr)\n",
    "std = np.std(arr)\n",
    "\n",
    "# Print results\n",
    "print(\"Average:\", avg)\n",
    "print(\"Variance:\", var)\n",
    "print(\"Standard deviation:\", std)\n",
    "\n"
   ]
  },
  {
   "cell_type": "markdown",
   "id": "9a5eecd6",
   "metadata": {},
   "source": [
    "# Q4"
   ]
  },
  {
   "cell_type": "code",
   "execution_count": 5,
   "id": "050f1f13",
   "metadata": {},
   "outputs": [
    {
     "name": "stdout",
     "output_type": "stream",
     "text": [
      "Original array:\n",
      " [[1 2 3]\n",
      " [4 5 6]\n",
      " [7 8 9]]\n",
      "\n",
      "Cumulative sum along the columns:\n",
      " [[ 1  2  3]\n",
      " [ 5  7  9]\n",
      " [12 15 18]]\n",
      "\n",
      "Cumulative sum along the rows:\n",
      " [[ 1  3  6]\n",
      " [ 4  9 15]\n",
      " [ 7 15 24]]\n",
      "\n",
      "Sum over rows for each of the 3 columns:\n",
      " [12 15 18]\n",
      "\n",
      "Sum over columns for each of the 2 rows:\n",
      " [ 6 15 24]\n"
     ]
    }
   ],
   "source": [
    "\n",
    "# Create a 3x3 array\n",
    "arr = np.array([[1, 2, 3], [4, 5, 6], [7, 8, 9]])\n",
    "\n",
    "# Compute the cumulative sum along the columns\n",
    "cumsum_col = np.cumsum(arr, axis=0)\n",
    "\n",
    "# Compute the cumulative sum along the rows\n",
    "cumsum_row = np.cumsum(arr, axis=1)\n",
    "\n",
    "# Sum over rows for each of the 3 columns\n",
    "sum_rows_cols = np.sum(arr, axis=0)\n",
    "\n",
    "# Sum over columns for each of the 2 rows\n",
    "sum_cols_rows = np.sum(arr, axis=1)\n",
    "\n",
    "# Print results\n",
    "print(\"Original array:\\n\", arr)\n",
    "print(\"\\nCumulative sum along the columns:\\n\", cumsum_col)\n",
    "print(\"\\nCumulative sum along the rows:\\n\", cumsum_row)\n",
    "print(\"\\nSum over rows for each of the 3 columns:\\n\", sum_rows_cols)\n",
    "print(\"\\nSum over columns for each of the 2 rows:\\n\", sum_cols_rows)\n"
   ]
  },
  {
   "cell_type": "markdown",
   "id": "bebdea42",
   "metadata": {},
   "source": [
    "# Q5"
   ]
  },
  {
   "cell_type": "code",
   "execution_count": 6,
   "id": "2e93fa47",
   "metadata": {},
   "outputs": [
    {
     "name": "stdout",
     "output_type": "stream",
     "text": [
      "[[1 2]\n",
      " [3 4]]\n"
     ]
    }
   ],
   "source": [
    "\n",
    "# Define the two matrices\n",
    "matrix1 = np.array([[1, 0], [0, 1]])\n",
    "matrix2 = np.array([[1, 2], [3, 4]])\n",
    "\n",
    "# Compute the multiplication of the two matrices\n",
    "result = np.dot(matrix1, matrix2)\n",
    "\n",
    "# Print result\n",
    "print(result)\n"
   ]
  },
  {
   "cell_type": "code",
   "execution_count": null,
   "id": "a444fa05",
   "metadata": {},
   "outputs": [],
   "source": []
  }
 ],
 "metadata": {
  "kernelspec": {
   "display_name": "Python 3 (ipykernel)",
   "language": "python",
   "name": "python3"
  },
  "language_info": {
   "codemirror_mode": {
    "name": "ipython",
    "version": 3
   },
   "file_extension": ".py",
   "mimetype": "text/x-python",
   "name": "python",
   "nbconvert_exporter": "python",
   "pygments_lexer": "ipython3",
   "version": "3.9.12"
  }
 },
 "nbformat": 4,
 "nbformat_minor": 5
}
